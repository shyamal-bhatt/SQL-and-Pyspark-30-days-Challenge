{
 "cells": [
  {
   "cell_type": "code",
   "execution_count": null,
   "metadata": {
    "vscode": {
     "languageId": "plaintext"
    }
   },
   "outputs": [],
   "source": [
    "from pyspark.sql import SparkSession\n",
    "from pyspark.sql.types import StructType, StructField, IntegerType, StringType, DateType\n",
    "from datetime import datetime\n",
    "from pyspark.sql import functions as F\n",
    "from pyspark.sql.window import Window"
   ]
  },
  {
   "cell_type": "code",
   "execution_count": null,
   "metadata": {
    "vscode": {
     "languageId": "plaintext"
    }
   },
   "outputs": [],
   "source": [
    "# Define a helper function to convert string to date\n",
    "def to_date(date_str):\n",
    "    return datetime.strptime(date_str, \"%Y-%m-%d\").date() if date_str else None\n",
    "\n",
    "# Define the schema for the customers table\n",
    "customers_schema = StructType([\n",
    "    StructField(\"customer_id\", IntegerType(), False),\n",
    "    StructField(\"customer_name\", StringType(), True),\n",
    "    StructField(\"subscription_start\", DateType(), True),\n",
    "    StructField(\"subscription_end\", DateType(), True)\n",
    "])\n",
    "\n",
    "# Create the data for the customers table with converted date values\n",
    "customers_data = [\n",
    "    (1, 'Alice', to_date('2024-01-15'), to_date('2024-07-10')),\n",
    "    (2, 'Bob', to_date('2024-02-01'), None),\n",
    "    (3, 'Carol', to_date('2024-01-25'), to_date('2024-03-01')),\n",
    "    (4, 'David', to_date('2024-03-15'), None),\n",
    "    (5, 'Eva', to_date('2024-04-12'), to_date('2024-06-30')),\n",
    "    (6, 'Frank', to_date('2024-04-25'), to_date('2024-05-15')),\n",
    "    (7, 'Gina', to_date('2024-05-05'), None),\n",
    "    (8, 'Harry', to_date('2024-05-20'), to_date('2024-07-20')),\n",
    "    (9, 'Ivy', to_date('2024-06-01'), None),\n",
    "    (10, 'John', to_date('2024-06-15'), to_date('2024-06-30'))\n",
    "]\n",
    "\n",
    "# Convert to DataFrame\n",
    "customers_df = spark.createDataFrame(customers_data, schema=customers_schema)\n",
    "\n",
    "# Write the data into a Delta table\n",
    "customers_df.write.format(\"delta\").mode(\"overwrite\").saveAsTable(\"customers\")"
   ]
  },
  {
   "cell_type": "markdown",
   "metadata": {},
   "source": [
    "## Identify Active Customers at the Start of Each Month"
   ]
  },
  {
   "cell_type": "markdown",
   "metadata": {},
   "source": [
    "active_customers = monthly_subscription_df.filter(F.col(\"subscription_active\") == 1) \\\n",
    "    .groupBy(\"month\") \\\n",
    "    .agg(F.countDistinct(\"customer_id\").alias(\"active_customers_count\"))\n",
    "\n",
    "active_customers.show()"
   ]
  },
  {
   "cell_type": "markdown",
   "metadata": {},
   "source": [
    "## Calculate the Churn Rate"
   ]
  },
  {
   "cell_type": "markdown",
   "metadata": {},
   "source": [
    "# Identify churned customers\n",
    "churned_customers = previous_month_customers.join(\n",
    "    current_month_customers,\n",
    "    (previous_month_customers.prev_customer_id == current_month_customers.customer_id) &\n",
    "    (previous_month_customers.previous_month == current_month_customers.month),\n",
    "    \"left_anti\"  # Keep only rows from previous_month_customers without a match in current_month_customers\n",
    ").groupBy(\"previous_month\") \\\n",
    " .agg(F.countDistinct(\"prev_customer_id\").alias(\"churned_customers_count\"))\n",
    "\n",
    "# Debug Step: Show churned customers\n",
    "churned_customers.show()\n"
   ]
  },
  {
   "cell_type": "code",
   "execution_count": null,
   "metadata": {
    "vscode": {
     "languageId": "plaintext"
    }
   },
   "outputs": [],
   "source": [
    "# Calculate churn rate\n",
    "churn_rate = active_customers_with_lag.join(\n",
    "    churned_customers,\n",
    "    active_customers_with_lag.previous_month == churned_customers.previous_month,\n",
    "    \"left\"\n",
    ").fillna(0) \\\n",
    "    .withColumn(\n",
    "        \"churn_rate_percentage\",\n",
    "        F.round((F.col(\"churned_customers_count\") / F.col(\"active_customers_count\")) * 100, 2)\n",
    "    ) \\\n",
    "    .select(\n",
    "        F.col(\"month\"),\n",
    "        F.col(\"active_customers_count\"),\n",
    "        F.col(\"churned_customers_count\"),\n",
    "        F.col(\"churn_rate_percentage\")\n",
    "    )\n",
    "\n",
    "# Debug Step: Show final churn rate results\n",
    "churn_rate.show()\n"
   ]
  }
 ],
 "metadata": {
  "language_info": {
   "name": "python"
  }
 },
 "nbformat": 4,
 "nbformat_minor": 2
}
